{
    "metadata": {
        "language_info": {
            "codemirror_mode": {
                "version": 3, 
                "name": "ipython"
            }, 
            "file_extension": ".py", 
            "nbconvert_exporter": "python", 
            "mimetype": "text/x-python", 
            "pygments_lexer": "ipython3", 
            "name": "python", 
            "version": "3.5.2"
        }, 
        "kernelspec": {
            "display_name": "Python 3.5 (Experimental) with Spark 2.0", 
            "language": "python", 
            "name": "python3-spark20"
        }
    }, 
    "nbformat": 4, 
    "cells": [
        {
            "metadata": {
                "collapsed": true
            }, 
            "outputs": [], 
            "cell_type": "code", 
            "execution_count": 1, 
            "source": "import numpy as np"
        }, 
        {
            "metadata": {
                "collapsed": true
            }, 
            "outputs": [], 
            "cell_type": "code", 
            "execution_count": 2, 
            "source": "my_list1 = [1,2,3,4]"
        }, 
        {
            "metadata": {
                "collapsed": true
            }, 
            "outputs": [], 
            "cell_type": "code", 
            "execution_count": 3, 
            "source": "my_array1 = np.array(my_list1)"
        }, 
        {
            "metadata": {
                "collapsed": false
            }, 
            "outputs": [
                {
                    "metadata": {}, 
                    "output_type": "execute_result", 
                    "execution_count": 5, 
                    "data": {
                        "text/plain": "array([1, 2, 3, 4])"
                    }
                }
            ], 
            "cell_type": "code", 
            "execution_count": 5, 
            "source": "my_array1"
        }, 
        {
            "metadata": {
                "collapsed": true
            }, 
            "outputs": [], 
            "cell_type": "code", 
            "execution_count": 6, 
            "source": "my_list2 = [11,22,33,44]"
        }, 
        {
            "metadata": {
                "collapsed": true
            }, 
            "outputs": [], 
            "cell_type": "code", 
            "execution_count": 7, 
            "source": "my_lists = [my_list1, my_list2]"
        }, 
        {
            "metadata": {
                "collapsed": false
            }, 
            "outputs": [
                {
                    "metadata": {}, 
                    "output_type": "execute_result", 
                    "execution_count": 8, 
                    "data": {
                        "text/plain": "[[1, 2, 3, 4], [11, 22, 33, 44]]"
                    }
                }
            ], 
            "cell_type": "code", 
            "execution_count": 8, 
            "source": "my_lists"
        }, 
        {
            "metadata": {
                "collapsed": true
            }, 
            "outputs": [], 
            "cell_type": "code", 
            "execution_count": 9, 
            "source": "my_array2 = np.array(my_lists)"
        }, 
        {
            "metadata": {
                "collapsed": false
            }, 
            "outputs": [
                {
                    "metadata": {}, 
                    "output_type": "execute_result", 
                    "execution_count": 10, 
                    "data": {
                        "text/plain": "array([[ 1,  2,  3,  4],\n       [11, 22, 33, 44]])"
                    }
                }
            ], 
            "cell_type": "code", 
            "execution_count": 10, 
            "source": "my_array2"
        }, 
        {
            "metadata": {
                "collapsed": false
            }, 
            "outputs": [
                {
                    "metadata": {}, 
                    "output_type": "execute_result", 
                    "execution_count": 11, 
                    "data": {
                        "text/plain": "(2, 4)"
                    }
                }
            ], 
            "cell_type": "code", 
            "execution_count": 11, 
            "source": "my_array2.shape"
        }, 
        {
            "metadata": {
                "collapsed": false
            }, 
            "outputs": [
                {
                    "metadata": {}, 
                    "output_type": "execute_result", 
                    "execution_count": 12, 
                    "data": {
                        "text/plain": "dtype('int64')"
                    }
                }
            ], 
            "cell_type": "code", 
            "execution_count": 12, 
            "source": "my_array2.dtype"
        }, 
        {
            "metadata": {
                "collapsed": false
            }, 
            "outputs": [
                {
                    "metadata": {}, 
                    "output_type": "execute_result", 
                    "execution_count": 13, 
                    "data": {
                        "text/plain": "array([ 0.,  0.,  0.,  0.,  0.])"
                    }
                }
            ], 
            "cell_type": "code", 
            "execution_count": 13, 
            "source": "np.zeros(5)"
        }, 
        {
            "metadata": {
                "collapsed": true
            }, 
            "outputs": [], 
            "cell_type": "code", 
            "execution_count": 14, 
            "source": "my_zeros = np.zeros(5)"
        }, 
        {
            "metadata": {
                "collapsed": false
            }, 
            "outputs": [
                {
                    "metadata": {}, 
                    "output_type": "execute_result", 
                    "execution_count": 15, 
                    "data": {
                        "text/plain": "array([ 0.,  0.,  0.,  0.,  0.])"
                    }
                }
            ], 
            "cell_type": "code", 
            "execution_count": 15, 
            "source": "my_zeros"
        }, 
        {
            "metadata": {
                "collapsed": false
            }, 
            "outputs": [
                {
                    "metadata": {}, 
                    "output_type": "execute_result", 
                    "execution_count": 22, 
                    "data": {
                        "text/plain": "array([[ 1.,  1.,  1.,  1.,  1.],\n       [ 1.,  1.,  1.,  1.,  1.],\n       [ 1.,  1.,  1.,  1.,  1.],\n       [ 1.,  1.,  1.,  1.,  1.],\n       [ 1.,  1.,  1.,  1.,  1.]])"
                    }
                }
            ], 
            "cell_type": "code", 
            "execution_count": 22, 
            "source": "np.ones((5,5))"
        }, 
        {
            "metadata": {}, 
            "cell_type": "markdown", 
            "source": "empty \u2260 zero \u306a\u306e\u3067\u3001\u9069\u5f53\u306a\u6570\u5024\u304c\u5165\u3063\u3066\u3057\u307e\u3063\u3066\u3044\u308b\u2026\u3000\u3044\u305f\u3001\u4f55\u6545\u304b0\u3067\u521d\u671f\u5316\u3055\u308c\u3066\u3044\u305f\u5165\u308a\u3059\u308b"
        }, 
        {
            "metadata": {
                "collapsed": false
            }, 
            "outputs": [
                {
                    "metadata": {}, 
                    "output_type": "execute_result", 
                    "execution_count": 25, 
                    "data": {
                        "text/plain": "array([[  6.93241911e-310,   2.34257550e-316,   0.00000000e+000,\n          0.00000000e+000,   6.93234805e-310],\n       [  3.94356143e+180,   1.68750160e+160,   1.18948175e-047,\n          5.18612274e+170,   1.88033430e+160],\n       [  7.48951808e-144,   6.01433264e+175,   6.93885958e+218,\n          5.56218858e+180,   1.50008929e+248],\n       [  4.50620083e-144,   5.22689326e-143,   8.26661476e-072,\n          2.42295123e-028,   2.17462508e-076]])"
                    }
                }
            ], 
            "cell_type": "code", 
            "execution_count": 25, 
            "source": "np.empty((4,5))"
        }, 
        {
            "metadata": {
                "collapsed": false
            }, 
            "outputs": [
                {
                    "metadata": {}, 
                    "output_type": "execute_result", 
                    "execution_count": 26, 
                    "data": {
                        "text/plain": "array([[ 1.,  0.,  0.,  0.,  0.],\n       [ 0.,  1.,  0.,  0.,  0.],\n       [ 0.,  0.,  1.,  0.,  0.],\n       [ 0.,  0.,  0.,  1.,  0.],\n       [ 0.,  0.,  0.,  0.,  1.]])"
                    }
                }
            ], 
            "cell_type": "code", 
            "execution_count": 26, 
            "source": "np.eye(5)"
        }, 
        {
            "metadata": {
                "collapsed": false
            }, 
            "outputs": [
                {
                    "metadata": {}, 
                    "output_type": "execute_result", 
                    "execution_count": 27, 
                    "data": {
                        "text/plain": "array([0, 1, 2, 3, 4])"
                    }
                }
            ], 
            "cell_type": "code", 
            "execution_count": 27, 
            "source": "np.arange(5)"
        }, 
        {
            "metadata": {
                "collapsed": false
            }, 
            "outputs": [
                {
                    "metadata": {}, 
                    "output_type": "execute_result", 
                    "execution_count": 29, 
                    "data": {
                        "text/plain": "array([  7,  27,  47,  67,  87, 107, 127, 147, 167, 187])"
                    }
                }
            ], 
            "cell_type": "code", 
            "execution_count": 29, 
            "source": "np.arange(7,200,20)"
        }, 
        {
            "metadata": {
                "collapsed": true
            }, 
            "outputs": [], 
            "cell_type": "code", 
            "execution_count": null, 
            "source": ""
        }
    ], 
    "nbformat_minor": 0
}